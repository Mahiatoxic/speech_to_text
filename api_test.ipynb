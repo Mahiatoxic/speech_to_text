{
 "cells": [
  {
   "cell_type": "code",
   "execution_count": null,
   "metadata": {},
   "outputs": [
    {
     "name": "stdout",
     "output_type": "stream",
     "text": [
      "در حال گوش کردن\n",
      "در حال پردازش صدا...\n",
      "برای من گوگل باز کن و بنویس برنامه\n",
      "text: برای من گوگل باز کن و بنویس برنامه\n",
      "en: Open Google for me and write app\n"
     ]
    }
   ],
   "source": [
    "import speech_recognition as sr\n",
    "import pyttsx3 as tts\n",
    "from deep_translator import GoogleTranslator\n",
    "\n",
    "\n",
    "\n",
    "recod = sr.Recognizer()\n",
    "\n",
    "print('در حال گوش کردن')\n",
    "\n",
    "with sr.Microphone() as source :\n",
    "    recod.pause_threshold = 1\n",
    "    audio = recod.listen(source)\n",
    "\n",
    "print('در حال پردازش صدا...')\n",
    "text = recod.recognize_google(audio, language ='fa-IR')  \n",
    "\n",
    "\n",
    "en = GoogleTranslator(source=\"auto\" , target=\"en\").translate(text)\n",
    "\n",
    "print(\"persian:\" ,text)\n",
    "print(\"english:\",en)\n",
    "\n",
    "\n",
    "engine =tts.init()\n",
    "engine.setProperty('rate',125)\n",
    "engine.say(en)\n",
    "engine.runAndWait()"
   ]
  }
 ],
 "metadata": {
  "kernelspec": {
   "display_name": "Python 3",
   "language": "python",
   "name": "python3"
  },
  "language_info": {
   "codemirror_mode": {
    "name": "ipython",
    "version": 3
   },
   "file_extension": ".py",
   "mimetype": "text/x-python",
   "name": "python",
   "nbconvert_exporter": "python",
   "pygments_lexer": "ipython3",
   "version": "3.10.11"
  }
 },
 "nbformat": 4,
 "nbformat_minor": 2
}
